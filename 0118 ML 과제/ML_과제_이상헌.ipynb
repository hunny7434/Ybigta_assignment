{
 "cells": [
  {
   "cell_type": "markdown",
   "source": [
    "## 두 과제를 \"ML_과제_(이름).ipynb\" 의 파일명으로 제출해 주세요!\n",
    "\n",
    "\n",
    "### 과제1\n",
    "비지도 학습의 목적인 Grouping에 대해 자세히 설명해 주세요! Dataset을 Grouping한다는 것이 무슨 의미인지 간단히 서술해 주시고,\n",
    "\n",
    "세션에서 언급되었던 Grouping을 위한 두 수단에 대해서 예시 모델을 제시하여 설명해 주시면 됩니다! 예시 모델의 종류에 대해서는 구글링을 통해 조사할 수 있겠습니다."
   ],
   "metadata": {
    "collapsed": false
   },
   "id": "e5fddd51f2443f6"
  },
  {
   "cell_type": "markdown",
   "source": [
    "Grouping은 데이터를 서로 유사한 특성이나 패턴을 갖는 그룹으로 나누는 과정으로, 데이터셋을 비슷한 특징을 갖는 부분집합으로 나누는 것 입니다. Dataset을 Grouping한다는 것은 이러한 이러한 과정을 통래 데이터의 구조를 파악하고, 데이터 간의 관계를 이해하는 과정이라고 볼 수 있습니다.\n",
    "\n",
    "군집화의 예시로는 DBSCAN이 있습니다. DBSCAN은 데이터의 밀도를 기반으로 한 군집화 알고리즘으로, 데이터의 밀도가 높은 지역을 군집으로 간주하고, 밀도가 낮은 지역은 군집에서 제외하는 방법입니다. DBSCAN의 장점으로는 임의의 모양의 군집을 찾을 수 있으며, 노이즈 포인트를 식별할 수 있다는 점이 있습니다.\n",
    "\n",
    "차원 축소의 예시로는 t-SNE가 있습니다. t-SNE는 고차원 데이터를 저차원으로 축소하는 데 사용되는 비선형 차원 축소 알고리즘으로, 데이터 포인트 간의 유사성을 보존하면서 저차원에 매핑하므로 시각화에 유용하게 활용됩니다. 주로 시각적으로 복잡한 데이터의 구조를 이해하는 데 활용됩니다."
   ],
   "metadata": {
    "collapsed": false
   },
   "id": "1c721a8718b2968f"
  },
  {
   "cell_type": "markdown",
   "source": [
    "### 과제2\n",
    "드라이브에 첨부된 diabetes.csv 파일을 이용해, decision tree를 이용한 classifier model을 디자인해 주세요!\n",
    "\n",
    "분류 문제에 맞는 (간단한 수준의) 데이터 전처리 및 Feature selection이 선행되어야 합니다.\n",
    "\n",
    "모델의 성능은 상관 없지만, 모델 구동 결과 및 평가지표의 출력은 정상적으로 이루어져야 합니다! 평가지표의 종류 또한 상관 없습니다.\n",
    "\n",
    "데이터셋에 대한 설명은 아래 캐클 링크를 참조해 주세요!\n",
    "https://www.kaggle.com/datasets/uciml/pima-indians-diabetes-database\n",
    "\n",
    "과제 진행에 있어 어려움을 겪으신다면 아래 링크의 내용을 참조하시면 됩니다!\n",
    "https://www.datacamp.com/tutorial/decision-tree-classification-python\n"
   ],
   "metadata": {
    "collapsed": false
   },
   "id": "adeaf5f66ef81bc8"
  },
  {
   "cell_type": "code",
   "outputs": [
    {
     "name": "stdout",
     "output_type": "stream",
     "text": [
      "Requirement already satisfied: pandas in /Users/sangheonlee/.pyenv/versions/3.11.2/lib/python3.11/site-packages (2.0.2)\r\n",
      "Requirement already satisfied: scikit-learn in /Users/sangheonlee/.pyenv/versions/3.11.2/lib/python3.11/site-packages (1.4.0)\r\n",
      "Requirement already satisfied: python-dateutil>=2.8.2 in /Users/sangheonlee/.pyenv/versions/3.11.2/lib/python3.11/site-packages (from pandas) (2.8.2)\r\n",
      "Requirement already satisfied: pytz>=2020.1 in /Users/sangheonlee/.pyenv/versions/3.11.2/lib/python3.11/site-packages (from pandas) (2023.3)\r\n",
      "Requirement already satisfied: tzdata>=2022.1 in /Users/sangheonlee/.pyenv/versions/3.11.2/lib/python3.11/site-packages (from pandas) (2023.3)\r\n",
      "Requirement already satisfied: numpy>=1.21.0 in /Users/sangheonlee/.pyenv/versions/3.11.2/lib/python3.11/site-packages (from pandas) (1.24.3)\r\n",
      "Requirement already satisfied: scipy>=1.6.0 in /Users/sangheonlee/.pyenv/versions/3.11.2/lib/python3.11/site-packages (from scikit-learn) (1.12.0)\r\n",
      "Requirement already satisfied: joblib>=1.2.0 in /Users/sangheonlee/.pyenv/versions/3.11.2/lib/python3.11/site-packages (from scikit-learn) (1.3.2)\r\n",
      "Requirement already satisfied: threadpoolctl>=2.0.0 in /Users/sangheonlee/.pyenv/versions/3.11.2/lib/python3.11/site-packages (from scikit-learn) (3.2.0)\r\n",
      "Requirement already satisfied: six>=1.5 in /Users/sangheonlee/.pyenv/versions/3.11.2/lib/python3.11/site-packages (from python-dateutil>=2.8.2->pandas) (1.16.0)\r\n"
     ]
    },
    {
     "data": {
      "text/plain": "     Pregnancies  Glucose  BloodPressure  SkinThickness  Insulin   BMI  \\\n0            6.0    148.0           72.0           35.0    125.0  33.6   \n1            1.0     85.0           66.0           29.0    125.0  26.6   \n2            8.0    183.0           64.0           29.0    125.0  23.3   \n3            1.0     89.0           66.0           23.0     94.0  28.1   \n4            4.0    137.0           40.0           35.0    168.0  43.1   \n..           ...      ...            ...            ...      ...   ...   \n763         10.0    101.0           76.0           48.0    180.0  32.9   \n764          2.0    122.0           70.0           27.0    125.0  36.8   \n765          5.0    121.0           72.0           23.0    112.0  26.2   \n766          1.0    126.0           60.0           29.0    125.0  30.1   \n767          1.0     93.0           70.0           31.0    125.0  30.4   \n\n     DiabetesPedigreeFunction  Age  Outcome  \n0                       0.627   50      1.0  \n1                       0.351   31      1.0  \n2                       0.672   32      1.0  \n3                       0.167   21      1.0  \n4                       2.288   33      1.0  \n..                        ...  ...      ...  \n763                     0.171   63      1.0  \n764                     0.340   27      1.0  \n765                     0.245   30      1.0  \n766                     0.349   47      1.0  \n767                     0.315   23      1.0  \n\n[768 rows x 9 columns]",
      "text/html": "<div>\n<style scoped>\n    .dataframe tbody tr th:only-of-type {\n        vertical-align: middle;\n    }\n\n    .dataframe tbody tr th {\n        vertical-align: top;\n    }\n\n    .dataframe thead th {\n        text-align: right;\n    }\n</style>\n<table border=\"1\" class=\"dataframe\">\n  <thead>\n    <tr style=\"text-align: right;\">\n      <th></th>\n      <th>Pregnancies</th>\n      <th>Glucose</th>\n      <th>BloodPressure</th>\n      <th>SkinThickness</th>\n      <th>Insulin</th>\n      <th>BMI</th>\n      <th>DiabetesPedigreeFunction</th>\n      <th>Age</th>\n      <th>Outcome</th>\n    </tr>\n  </thead>\n  <tbody>\n    <tr>\n      <th>0</th>\n      <td>6.0</td>\n      <td>148.0</td>\n      <td>72.0</td>\n      <td>35.0</td>\n      <td>125.0</td>\n      <td>33.6</td>\n      <td>0.627</td>\n      <td>50</td>\n      <td>1.0</td>\n    </tr>\n    <tr>\n      <th>1</th>\n      <td>1.0</td>\n      <td>85.0</td>\n      <td>66.0</td>\n      <td>29.0</td>\n      <td>125.0</td>\n      <td>26.6</td>\n      <td>0.351</td>\n      <td>31</td>\n      <td>1.0</td>\n    </tr>\n    <tr>\n      <th>2</th>\n      <td>8.0</td>\n      <td>183.0</td>\n      <td>64.0</td>\n      <td>29.0</td>\n      <td>125.0</td>\n      <td>23.3</td>\n      <td>0.672</td>\n      <td>32</td>\n      <td>1.0</td>\n    </tr>\n    <tr>\n      <th>3</th>\n      <td>1.0</td>\n      <td>89.0</td>\n      <td>66.0</td>\n      <td>23.0</td>\n      <td>94.0</td>\n      <td>28.1</td>\n      <td>0.167</td>\n      <td>21</td>\n      <td>1.0</td>\n    </tr>\n    <tr>\n      <th>4</th>\n      <td>4.0</td>\n      <td>137.0</td>\n      <td>40.0</td>\n      <td>35.0</td>\n      <td>168.0</td>\n      <td>43.1</td>\n      <td>2.288</td>\n      <td>33</td>\n      <td>1.0</td>\n    </tr>\n    <tr>\n      <th>...</th>\n      <td>...</td>\n      <td>...</td>\n      <td>...</td>\n      <td>...</td>\n      <td>...</td>\n      <td>...</td>\n      <td>...</td>\n      <td>...</td>\n      <td>...</td>\n    </tr>\n    <tr>\n      <th>763</th>\n      <td>10.0</td>\n      <td>101.0</td>\n      <td>76.0</td>\n      <td>48.0</td>\n      <td>180.0</td>\n      <td>32.9</td>\n      <td>0.171</td>\n      <td>63</td>\n      <td>1.0</td>\n    </tr>\n    <tr>\n      <th>764</th>\n      <td>2.0</td>\n      <td>122.0</td>\n      <td>70.0</td>\n      <td>27.0</td>\n      <td>125.0</td>\n      <td>36.8</td>\n      <td>0.340</td>\n      <td>27</td>\n      <td>1.0</td>\n    </tr>\n    <tr>\n      <th>765</th>\n      <td>5.0</td>\n      <td>121.0</td>\n      <td>72.0</td>\n      <td>23.0</td>\n      <td>112.0</td>\n      <td>26.2</td>\n      <td>0.245</td>\n      <td>30</td>\n      <td>1.0</td>\n    </tr>\n    <tr>\n      <th>766</th>\n      <td>1.0</td>\n      <td>126.0</td>\n      <td>60.0</td>\n      <td>29.0</td>\n      <td>125.0</td>\n      <td>30.1</td>\n      <td>0.349</td>\n      <td>47</td>\n      <td>1.0</td>\n    </tr>\n    <tr>\n      <th>767</th>\n      <td>1.0</td>\n      <td>93.0</td>\n      <td>70.0</td>\n      <td>31.0</td>\n      <td>125.0</td>\n      <td>30.4</td>\n      <td>0.315</td>\n      <td>23</td>\n      <td>1.0</td>\n    </tr>\n  </tbody>\n</table>\n<p>768 rows × 9 columns</p>\n</div>"
     },
     "execution_count": 39,
     "metadata": {},
     "output_type": "execute_result"
    }
   ],
   "source": [
    "# 필요한 라이브러리 설치\n",
    "!pip install pandas scikit-learn\n",
    "\n",
    "# 라이브러리 로드\n",
    "import pandas as pd\n",
    "import numpy as np;\n",
    "\n",
    "# 모델 라이브러리 import\n",
    "from sklearn.tree import DecisionTreeClassifier\n",
    "from sklearn.model_selection import train_test_split\n",
    "\n",
    "# 데이터 로드\n",
    "data = pd.read_csv('diabetes.csv')\n",
    "data.replace(0, np.nan, inplace=True)\n",
    "for column in data.columns:\n",
    "    median_value = data[column].median()\n",
    "    data[column].fillna(median_value, inplace=True)\n",
    "data"
   ],
   "metadata": {
    "collapsed": false,
    "ExecuteTime": {
     "end_time": "2024-01-24T09:41:16.249900Z",
     "start_time": "2024-01-24T09:41:15.174430Z"
    }
   },
   "id": "e714252d993598bf",
   "execution_count": 39
  },
  {
   "cell_type": "code",
   "outputs": [],
   "source": [
    "# Model build\n",
    "dt_clf = DecisionTreeClassifier(random_state=111)\n",
    "\n",
    "# Train/test split 진행 (7:3)\n",
    "X_train, X_test, y_train, y_test = train_test_split(data.drop('Outcome',axis=1),\n",
    "                                                    data['Outcome'], # target variable = Outcome\n",
    "                                                    test_size=0.3, random_state=111)\n",
    "# 모델 훈련\n",
    "dt_clf = dt_clf.fit(X_train,y_train)"
   ],
   "metadata": {
    "collapsed": false,
    "ExecuteTime": {
     "end_time": "2024-01-24T09:41:17.709369Z",
     "start_time": "2024-01-24T09:41:17.706447Z"
    }
   },
   "id": "d57d4984be4d05c0",
   "execution_count": 40
  },
  {
   "cell_type": "code",
   "outputs": [
    {
     "name": "stdout",
     "output_type": "stream",
     "text": [
      "1.0\n"
     ]
    }
   ],
   "source": [
    "# 평가지표 출력\n",
    "from sklearn.metrics import accuracy_score\n",
    "pred = dt_clf.predict(X_test)\n",
    "accuracy = accuracy_score(y_test, pred)\n",
    "print(accuracy)"
   ],
   "metadata": {
    "collapsed": false,
    "ExecuteTime": {
     "end_time": "2024-01-24T09:41:18.480392Z",
     "start_time": "2024-01-24T09:41:18.476960Z"
    }
   },
   "id": "7536aebe7dbb5348",
   "execution_count": 41
  },
  {
   "cell_type": "code",
   "outputs": [],
   "source": [],
   "metadata": {
    "collapsed": false
   },
   "id": "164236f3152b7a8e"
  }
 ],
 "metadata": {
  "kernelspec": {
   "display_name": "Python 3",
   "language": "python",
   "name": "python3"
  },
  "language_info": {
   "codemirror_mode": {
    "name": "ipython",
    "version": 2
   },
   "file_extension": ".py",
   "mimetype": "text/x-python",
   "name": "python",
   "nbconvert_exporter": "python",
   "pygments_lexer": "ipython2",
   "version": "2.7.6"
  }
 },
 "nbformat": 4,
 "nbformat_minor": 5
}
