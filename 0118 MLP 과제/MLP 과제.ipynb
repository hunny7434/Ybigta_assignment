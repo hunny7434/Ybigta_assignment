{
 "cells": [
  {
   "cell_type": "markdown",
   "metadata": {
    "id": "4sSY3DjNbPEa"
   },
   "source": [
    "### 필요 Package download"
   ]
  },
  {
   "cell_type": "code",
   "execution_count": 2,
   "metadata": {
    "id": "PK3bVKuBcbZ6",
    "executionInfo": {
     "status": "ok",
     "timestamp": 1706124082265,
     "user_tz": -540,
     "elapsed": 1751,
     "user": {
      "displayName": "[20_HG001Y]이상헌",
      "userId": "03316205016909977920"
     }
    }
   },
   "outputs": [],
   "source": [
    "import torch\n",
    "import torchvision\n",
    "import torchvision.transforms as transforms"
   ]
  },
  {
   "cell_type": "code",
   "source": [
    "device = torch.device('cuda' if torch.cuda.is_available() else 'cpu')\n",
    "\n",
    "# 현재 gpu를 사용중이면 cuda로 출력됩니다!:\n",
    "# gpu 변경은 런타임 -> 런타임 유형변경 -> 하드웨어 가속기: GPU로 할 수 있습니다.\n",
    "\n",
    "print(device)"
   ],
   "metadata": {
    "colab": {
     "base_uri": "https://localhost:8080/"
    },
    "id": "B7Jp6DQLn3sz",
    "executionInfo": {
     "status": "ok",
     "timestamp": 1706124084794,
     "user_tz": -540,
     "elapsed": 2,
     "user": {
      "displayName": "[20_HG001Y]이상헌",
      "userId": "03316205016909977920"
     }
    },
    "outputId": "ee870f17-b016-4820-9d06-692fb5c2a6ed"
   },
   "execution_count": 3,
   "outputs": [
    {
     "output_type": "stream",
     "name": "stdout",
     "text": [
      "cuda\n"
     ]
    }
   ]
  },
  {
   "cell_type": "markdown",
   "source": [
    "## 데이터 부연설명\n",
    "* 저희가 사용할 dataset은 cifar-10이라는 이름을 가진, 컬러 이미지 데이터 60,000개가 들어있는\n",
    "dataset입니다. <br>\n",
    "* 해당 dataset은 총 10개의 class로 나누어져 있으며, 이 task는 각 이미지에 대한 class의 분류 accuracy를 높이는 것이 목적입니다."
   ],
   "metadata": {
    "id": "W9v_beLpA34L"
   }
  },
  {
   "cell_type": "markdown",
   "source": [
    "### Data Normalize & DataLoader Settting"
   ],
   "metadata": {
    "id": "Z8e8Z-lhhxZ7"
   }
  },
  {
   "cell_type": "code",
   "execution_count": 4,
   "metadata": {
    "colab": {
     "base_uri": "https://localhost:8080/"
    },
    "executionInfo": {
     "elapsed": 1320,
     "status": "ok",
     "timestamp": 1706124089201,
     "user": {
      "displayName": "[20_HG001Y]이상헌",
      "userId": "03316205016909977920"
     },
     "user_tz": -540
    },
    "id": "itmleb14cdyh",
    "outputId": "4292b83a-4378-421d-bd13-b4b6901ca1dc"
   },
   "outputs": [
    {
     "output_type": "stream",
     "name": "stdout",
     "text": [
      "Files already downloaded and verified\n",
      "Files already downloaded and verified\n"
     ]
    }
   ],
   "source": [
    "transform = transforms.Compose(\n",
    "    [transforms.ToTensor(),\n",
    "     transforms.Normalize((0.5, 0.5, 0.5), (0.5, 0.5, 0.5))])\n",
    "\n",
    "trainset = torchvision.datasets.CIFAR10(root='./data', train=True,\n",
    "                                        download=True, transform=transform)\n",
    "trainloader = torch.utils.data.DataLoader(trainset, batch_size=4,\n",
    "                                          shuffle=True, num_workers=2)\n",
    "\n",
    "testset = torchvision.datasets.CIFAR10(root='./data', train=False,\n",
    "                                       download=True, transform=transform)\n",
    "testloader = torch.utils.data.DataLoader(testset, batch_size=4,\n",
    "                                         shuffle=False, num_workers=2)\n",
    "\n",
    "classes = ('plane', 'car', 'bird', 'cat',\n",
    "           'deer', 'dog', 'frog', 'horse', 'ship', 'truck')"
   ]
  },
  {
   "cell_type": "code",
   "execution_count": 5,
   "metadata": {
    "colab": {
     "base_uri": "https://localhost:8080/",
     "height": 211
    },
    "executionInfo": {
     "elapsed": 1113,
     "status": "ok",
     "timestamp": 1706124093640,
     "user": {
      "displayName": "[20_HG001Y]이상헌",
      "userId": "03316205016909977920"
     },
     "user_tz": -540
    },
    "id": "ViOCagdocmEt",
    "outputId": "34c9d2e5-4fa9-4825-edf4-cab9bb14b63b"
   },
   "outputs": [
    {
     "output_type": "stream",
     "name": "stdout",
     "text": [
      "horse truck   dog truck\n"
     ]
    },
    {
     "output_type": "display_data",
     "data": {
      "text/plain": [
       "<Figure size 640x480 with 1 Axes>"
      ],
      "image/png": "[encoded data removed]"
     },
     "metadata": {}
    }
   ],
   "source": [
    "import matplotlib.pyplot as plt\n",
    "import numpy as np\n",
    "\n",
    "# 이미지를 보여주기 위한 함수\n",
    "\n",
    "\n",
    "def imshow(img):\n",
    "    img = img / 2 + 0.5     # 표준화 해제\n",
    "    npimg = img.numpy()\n",
    "    plt.imshow(np.transpose(npimg, (1, 2, 0)))\n",
    "\n",
    "\n",
    "# 학습용 이미지를 무작위로 가져오기\n",
    "dataiter = iter(trainloader)\n",
    "images, labels = dataiter.__next__()\n",
    "\n",
    "# 이미지 보여주기\n",
    "imshow(torchvision.utils.make_grid(images))\n",
    "# 정답(label) 출력\n",
    "print(' '.join('%5s' % classes[labels[j]] for j in range(4)))\n",
    "plt.show()"
   ]
  },
  {
   "cell_type": "code",
   "execution_count": 6,
   "metadata": {
    "id": "TQsfjGTWcm-i",
    "executionInfo": {
     "status": "ok",
     "timestamp": 1706124097100,
     "user_tz": -540,
     "elapsed": 674,
     "user": {
      "displayName": "[20_HG001Y]이상헌",
      "userId": "03316205016909977920"
     }
    }
   },
   "outputs": [],
   "source": [
    "import torch.nn as nn\n",
    "import torch.nn.functional as F\n",
    "\n",
    "#해당 부분은 어느 정도 CNN의 개념이 포함되어 있습니다! 과제를 수행하는데 아무 관련도 없으니 그대로 두시면 됩니다!\n",
    "class Net(nn.Module):\n",
    "    def __init__(self):\n",
    "        super(Net, self).__init__()\n",
    "        self.conv1 = nn.Conv2d(3, 6, 5) # input channels, output channels, kernel size\n",
    "        self.pool = nn.MaxPool2d(2, 2)  # kernel size, stride, padding = 0 (default)\n",
    "        self.conv2 = nn.Conv2d(6, 16, 5)\n",
    "        #아래 부분의 코드를 수정 혹은 추가해주시면 됩니다! (layer를 추가할때는 self.fc'num'=nn.Linear(x,y)의 형태로 추가하시면 됩니다!)\n",
    "        self.fc1 = nn.Linear(400, 120) # input features, output features\n",
    "        self.fc2 = nn.Linear(120, 48)\n",
    "        self.fc3 = nn.Linear(48, 10)\n",
    "        self.fc4 = nn.Linear(10, 10)\n",
    "\n",
    "\n",
    "    def forward(self, x):\n",
    "        x = self.pool(F.relu(self.conv1(x)))\n",
    "        x = self.pool(F.relu(self.conv2(x)))\n",
    "        x = x.view(-1, 16 * 5 * 5)\n",
    "        #아래 부분에서 코드를 수정하거나 추가하여 forward 함수를 새롭게 지정해주시기 바랍니다!\n",
    "        #Hint: relu 함수는 출력층을 제외한 모든 층에서 활성화 함수로써 작동되어야 합니다.\n",
    "        x = F.relu(self.fc1(x))\n",
    "        x = F.relu(self.fc2(x))\n",
    "        x = F.relu(self.fc3(x))\n",
    "        x = self.fc4(x)\n",
    "        return x\n",
    "\n",
    "\n",
    "net = Net()"
   ]
  },
  {
   "cell_type": "code",
   "execution_count": 7,
   "metadata": {
    "id": "HmJhscg1dIhs",
    "executionInfo": {
     "status": "ok",
     "timestamp": 1706124100681,
     "user_tz": -540,
     "elapsed": 4,
     "user": {
      "displayName": "[20_HG001Y]이상헌",
      "userId": "03316205016909977920"
     }
    }
   },
   "outputs": [],
   "source": [
    "import torch.optim as optim\n",
    "\n",
    "#optimizer를 변경하거나 수치를 조정해보는 것도 accuracy를 높이는 데 도움을 줄 수 있습니다!\n",
    "criterion = nn.CrossEntropyLoss()\n",
    "optimizer = optim.SGD(net.parameters(), lr=0.001, momentum=0.9)"
   ]
  },
  {
   "cell_type": "code",
   "execution_count": 8,
   "metadata": {
    "colab": {
     "base_uri": "https://localhost:8080/"
    },
    "id": "wpAa24bGdT3_",
    "executionInfo": {
     "status": "ok",
     "timestamp": 1706124429075,
     "user_tz": -540,
     "elapsed": 324815,
     "user": {
      "displayName": "[20_HG001Y]이상헌",
      "userId": "03316205016909977920"
     }
    },
    "outputId": "25ca44ef-e95c-4c8a-88aa-91151b9a60d0"
   },
   "outputs": [
    {
     "output_type": "stream",
     "name": "stdout",
     "text": [
      "[1,  2000] epoch loss: 2.276\n",
      "[1,  4000] epoch loss: 1.986\n",
      "[1,  6000] epoch loss: 1.761\n",
      "[1,  8000] epoch loss: 1.665\n",
      "[1, 10000] epoch loss: 1.577\n",
      "[1, 12000] epoch loss: 1.542\n",
      "[2,  2000] epoch loss: 1.462\n",
      "[2,  4000] epoch loss: 1.437\n",
      "[2,  6000] epoch loss: 1.396\n",
      "[2,  8000] epoch loss: 1.374\n",
      "[2, 10000] epoch loss: 1.352\n",
      "[2, 12000] epoch loss: 1.350\n",
      "[3,  2000] epoch loss: 1.287\n",
      "[3,  4000] epoch loss: 1.286\n",
      "[3,  6000] epoch loss: 1.261\n",
      "[3,  8000] epoch loss: 1.240\n",
      "[3, 10000] epoch loss: 1.242\n",
      "[3, 12000] epoch loss: 1.228\n",
      "[4,  2000] epoch loss: 1.162\n",
      "[4,  4000] epoch loss: 1.168\n",
      "[4,  6000] epoch loss: 1.163\n",
      "[4,  8000] epoch loss: 1.157\n",
      "[4, 10000] epoch loss: 1.145\n",
      "[4, 12000] epoch loss: 1.133\n",
      "[5,  2000] epoch loss: 1.070\n",
      "[5,  4000] epoch loss: 1.069\n",
      "[5,  6000] epoch loss: 1.084\n",
      "[5,  8000] epoch loss: 1.083\n",
      "[5, 10000] epoch loss: 1.095\n",
      "[5, 12000] epoch loss: 1.082\n",
      "Finished Training\n"
     ]
    }
   ],
   "source": [
    "for epoch in range(5):  # 데이터셋을 n차례 반복하여 학습합니다. 또한 range 속의 숫자도 바꾸어 학습률을 높이는 것도 도움이 될 겁니다!\n",
    "\n",
    "    running_loss = 0.0\n",
    "    for i, data in enumerate(trainloader, 0):\n",
    "        # 입력을 받은 후\n",
    "        inputs, labels = data\n",
    "        # 변화도(Gradient) 매개변수를 0으로 만든 후\n",
    "        optimizer.zero_grad()\n",
    "\n",
    "        # 순전파 + 역전파 + 최적화\n",
    "        outputs = net(inputs)\n",
    "        loss = criterion(outputs, labels)\n",
    "        loss.backward()\n",
    "        optimizer.step()\n",
    "\n",
    "        # 통계 출력\n",
    "\n",
    "        running_loss += loss.item()\n",
    "        # 2000개의 data를 학습할때마다 loss 출력\n",
    "        if i % 2000 == 1999:    # % 뒤에 들어갈 숫자의 크기를 조정하여 batch_size를 조정할 수 있습니다! 그리고 i % n == n-1:로 숫자를 맞춰주셔야 한다는 점 잊지 마세요!\n",
    "            print('[%d, %5d] epoch loss: %.3f' %\n",
    "                  (epoch + 1, i + 1, running_loss / 2000)) # running_loss 우측의 숫자 역시 윗줄에서 바꾼 batch_size로 바꿔주어야 합니다!\n",
    "            running_loss = 0.0\n",
    "\n",
    "print('Finished Training')"
   ]
  },
  {
   "cell_type": "code",
   "source": [
    "dataiter = iter(testloader)\n",
    "images, labels = dataiter.__next__()\n",
    "\n",
    "# print images\n",
    "imshow(torchvision.utils.make_grid(images))\n",
    "print('GroundTruth: ', ' '.join('%5s' % classes[labels[j]] for j in range(4)))\n",
    "plt.show()"
   ],
   "metadata": {
    "colab": {
     "base_uri": "https://localhost:8080/",
     "height": 211
    },
    "id": "rNF7TthMfA37",
    "executionInfo": {
     "status": "ok",
     "timestamp": 1706124520752,
     "user_tz": -540,
     "elapsed": 1135,
     "user": {
      "displayName": "[20_HG001Y]이상헌",
      "userId": "03316205016909977920"
     }
    },
    "outputId": "661dda41-67e2-4ee4-cfa3-6be7b7efd077"
   },
   "execution_count": 9,
   "outputs": [
    {
     "output_type": "stream",
     "name": "stdout",
     "text": [
      "GroundTruth:    cat  ship  ship plane\n"
     ]
    },
    {
     "output_type": "display_data",
     "data": {
      "text/plain": [
       "<Figure size 640x480 with 1 Axes>"
      ],
      "image/png": "[encoded data removed]"
     },
     "metadata": {}
    }
   ]
  },
  {
   "cell_type": "code",
   "source": [
    "outputs = net(images)\n",
    "_, predicted = torch.max(outputs, 1)\n",
    "\n",
    "print('Predicted: ', ' '.join('%5s' % classes[predicted[j]]\n",
    "                              for j in range(4)))"
   ],
   "metadata": {
    "colab": {
     "base_uri": "https://localhost:8080/"
    },
    "id": "NJqS91M8hYv1",
    "executionInfo": {
     "status": "ok",
     "timestamp": 1706124523395,
     "user_tz": -540,
     "elapsed": 2,
     "user": {
      "displayName": "[20_HG001Y]이상헌",
      "userId": "03316205016909977920"
     }
    },
    "outputId": "b4c7e754-830f-4800-e689-9b18fafc1541"
   },
   "execution_count": 10,
   "outputs": [
    {
     "output_type": "stream",
     "name": "stdout",
     "text": [
      "Predicted:    cat   car plane plane\n"
     ]
    }
   ]
  },
  {
   "cell_type": "code",
   "source": [
    "#과제2에서 요구하는 accuracy의 결과값이 나오는 code입니다! 캡처를 하실 때는 해당 코드의 결과를 캡처하시고, 이를 제출하여 주시기 바랍니다~\n",
    "correct = 0\n",
    "total = 0\n",
    "with torch.no_grad():\n",
    "    for data in testloader:\n",
    "        images, labels = data\n",
    "        outputs = net(images)\n",
    "        _, predicted = torch.max(outputs.data, 1)\n",
    "        total += labels.size(0)\n",
    "        correct += (predicted == labels).sum().item()\n",
    "\n",
    "print('Accuracy of the network on the 10000 test images: %d %%' % (\n",
    "    100 * correct / total))"
   ],
   "metadata": {
    "colab": {
     "base_uri": "https://localhost:8080/"
    },
    "id": "wKItpc_2heNT",
    "executionInfo": {
     "status": "ok",
     "timestamp": 1706124532769,
     "user_tz": -540,
     "elapsed": 7679,
     "user": {
      "displayName": "[20_HG001Y]이상헌",
      "userId": "03316205016909977920"
     }
    },
    "outputId": "72df070c-a66b-4d54-95c8-ea79854bd930"
   },
   "execution_count": 11,
   "outputs": [
    {
     "output_type": "stream",
     "name": "stdout",
     "text": [
      "Accuracy of the network on the 10000 test images: 58 %\n"
     ]
    }
   ]
  },
  {
   "cell_type": "code",
   "source": [
    "class_correct = list(0. for i in range(10))\n",
    "class_total = list(0. for i in range(10))\n",
    "with torch.no_grad():\n",
    "    for data in testloader:\n",
    "        images, labels = data\n",
    "        outputs = net(images)\n",
    "        _, predicted = torch.max(outputs, 1)\n",
    "        c = (predicted == labels).squeeze()\n",
    "        for i in range(4):\n",
    "            label = labels[i]\n",
    "            class_correct[label] += c[i].item()\n",
    "            class_total[label] += 1\n",
    "\n",
    "\n",
    "for i in range(10):\n",
    "    print('Accuracy of %5s : %2d %%' % (\n",
    "        classes[i], 100 * class_correct[i] / class_total[i]))"
   ],
   "metadata": {
    "colab": {
     "base_uri": "https://localhost:8080/"
    },
    "id": "2VD2MZ91hkk1",
    "executionInfo": {
     "status": "ok",
     "timestamp": 1705568387616,
     "user_tz": -540,
     "elapsed": 9118,
     "user": {
      "displayName": "김보담(상경대학 응용통계학과)",
      "userId": "17036112245006719168"
     }
    },
    "outputId": "78e8614b-7a2b-4ea0-f8c2-d3f6da8e5c65"
   },
   "execution_count": null,
   "outputs": [
    {
     "output_type": "stream",
     "name": "stdout",
     "text": [
      "Accuracy of plane : 57 %\n",
      "Accuracy of   car : 69 %\n",
      "Accuracy of  bird : 24 %\n",
      "Accuracy of   cat : 16 %\n",
      "Accuracy of  deer : 38 %\n",
      "Accuracy of   dog : 51 %\n",
      "Accuracy of  frog : 77 %\n",
      "Accuracy of horse : 54 %\n",
      "Accuracy of  ship : 59 %\n",
      "Accuracy of truck : 40 %\n"
     ]
    }
   ]
  },
  {
   "cell_type": "markdown",
   "source": [
    "출처: https://m.blog.naver.com/ckdgus1433/221406102936의 튜토리얼을 참고하였습니다!"
   ],
   "metadata": {
    "id": "FXdtUROHSU4_"
   }
  },
  {
   "cell_type": "markdown",
   "source": [
    "#과제"
   ],
   "metadata": {
    "id": "SXfXZ7HorjRI"
   }
  },
  {
   "cell_type": "markdown",
   "source": [
    "##1. 실습 파일의 overfitting model의 optimizer, epoch, learning rate 등을 변경하여 실행한 결과와, underfitting의 layer를 2개 이상 추가하여 실행한 결과를 각각 캡처하여 overfit, underfit이라는 이름으로 깃허브에 제출하기."
   ],
   "metadata": {
    "id": "PxXa62w5rmyq"
   }
  },
  {
   "cell_type": "markdown",
   "source": [
    "##2. 과제 파일을 수정하여 Test image에 대한 accuracy를 53% 이상으로 높이고, 모델의 결과에 대한 캡처본과 파일을 모두 깃허브에 제출하기. <br>\n",
    "\n",
    "Hint: 파일 중간중간에 설명이 있는 부분을 참고하시면 아마 될 겁니다!<br>\n",
    "(layer 추가, optimizer 변경, learning rate 조정 등...)"
   ],
   "metadata": {
    "id": "IN3brBzmyaTu"
   }
  },
  {
   "cell_type": "markdown",
   "source": [
    "##3. MLP model과 기존 ML model의 차이점을 최소 2가지 측면에서 서술하기. <br>\n",
    "답1:   <br>\n",
    "답2:   "
   ],
   "metadata": {
    "id": "4BWi0Uspyaba"
   }
  },
  {
   "cell_type": "markdown",
   "source": [
    "답1: 학습 방법에 있어 MLP모델은 역전파 알고리즘을 사용하는 반면, ML은 해석적인 방법을 사용하여 모델의 파라미터를 연산합니다.\n",
    "답2: MLP는 복잡한 특징을 자동으로 추출할 수 있는 반면, ML은 모델이 데이터의 복잡한 표현을 스스로 학습하지 않고, 사람이 수동으로 설계한 특징을 기반으로 합니다."
   ],
   "metadata": {
    "collapsed": false
   }
  },
  {
   "cell_type": "markdown",
   "source": [
    "##4. Backpropagation이 무엇인지 자신의 언어로 한줄 요약!    <br>\n",
    "답: \n"
   ],
   "metadata": {
    "id": "J8qI2lfvyajC"
   }
  },
  {
   "cell_type": "markdown",
   "source": [
    "답: Backpropagation은 신경망에서 사용되는 학습 알고리즘으로, 출력값과 실제 값 사이의 오차를 역방향으로 전파하여 각 가중치를 조정하여 모델을 학습시키는 알고리즘입니다."
   ],
   "metadata": {
    "collapsed": false
   }
  }
 ],
 "metadata": {
  "accelerator": "GPU",
  "colab": {
   "provenance": [],
   "gpuType": "T4"
  },
  "kernelspec": {
   "display_name": "Python 3",
   "name": "python3"
  },
  "language_info": {
   "name": "python"
  }
 },
 "nbformat": 4,
 "nbformat_minor": 0
}
