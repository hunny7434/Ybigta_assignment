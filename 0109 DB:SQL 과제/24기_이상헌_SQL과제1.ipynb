{
 "cells": [
  {
   "cell_type": "markdown",
   "source": [
    "# 과제 1-1"
   ],
   "metadata": {
    "collapsed": false
   },
   "id": "66eda7063359a171"
  },
  {
   "cell_type": "code",
   "outputs": [],
   "source": [
    "SELECT C.CustomerID, C.CustomerName, SUM(P.Price * OD.Quantity) as \"구매금액\"\n",
    "FROM Customers C\n",
    "JOIN Orders O ON C.CustomerID = O.CustomerID\n",
    "JOIN OrderDetails OD ON O.OrderID = OD.OrderID\n",
    "JOIN Products P ON OD.ProductID = P.ProductID\n",
    "GROUP BY C.CustomerID;"
   ],
   "metadata": {
    "collapsed": false
   },
   "id": "5acd6ffe0319bc92"
  },
  {
   "cell_type": "markdown",
   "source": [
    "# 과제 1-2"
   ],
   "metadata": {
    "collapsed": false
   },
   "id": "18ff647a34630a73"
  },
  {
   "cell_type": "code",
   "outputs": [],
   "source": [
    "SELECT C.CategoryName, SUM(OD.Quantity) AS \"판매량\", SUM(P.Price * OD.Quantity) AS \"판매금액\"\n",
    "FROM Categories C\n",
    "JOIN Products P ON C.CategoryID = P.CategoryID\n",
    "JOIN OrderDetails OD ON OD.ProductID = P.ProductID\n",
    "GROUP BY C.CategoryID\n",
    "WHERE SUM(OD.Quantity) >= 2000\n",
    "ORDER BY SUM(OD.Quantity) DESC;"
   ],
   "metadata": {
    "collapsed": false
   },
   "id": "f0924f6655ec5c9f"
  },
  {
   "cell_type": "markdown",
   "source": [
    "# 과제 1-3"
   ],
   "metadata": {
    "collapsed": false
   },
   "id": "36cfc19261cd160f"
  },
  {
   "cell_type": "code",
   "outputs": [],
   "source": [
    "SELECT C.CategoryName, SUM(OD.Quantity) AS TotalSales, SUM(P.Price * OD.Quantity) AS TotalPrice\n",
    "FROM Categories C\n",
    "JOIN Products P ON C.CategoryID = P.CategoryID\n",
    "JOIN OrderDetails OD ON OD.ProductID = P.ProductID\n",
    "GROUP BY C.CategoryID\n",
    "HAVING TotalPrice > (SELECT SUM(P.Price * OD.Quantity)\n",
    "\t\t\t\t\tFROM Categories C\n",
    "                    JOIN Products P ON C.CategoryID = P.CategoryID\n",
    "\t\t\t\t\tJOIN OrderDetails OD ON OD.ProductID = P.ProductID\n",
    "                    WHERE C.CategoryName = 'Seafood'\n",
    "\t\t\t\t\tGROUP BY C.CategoryID)\n",
    "ORDER BY TotalSales DESC;"
   ],
   "metadata": {
    "collapsed": false
   },
   "id": "ec85f6cabaccddd0"
  }
 ],
 "metadata": {
  "kernelspec": {
   "display_name": "Python 3",
   "language": "python",
   "name": "python3"
  },
  "language_info": {
   "codemirror_mode": {
    "name": "ipython",
    "version": 2
   },
   "file_extension": ".py",
   "mimetype": "text/x-python",
   "name": "python",
   "nbconvert_exporter": "python",
   "pygments_lexer": "ipython2",
   "version": "2.7.6"
  }
 },
 "nbformat": 4,
 "nbformat_minor": 5
}
